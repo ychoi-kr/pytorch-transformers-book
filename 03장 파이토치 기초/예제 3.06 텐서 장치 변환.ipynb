{
 "cells": [
  {
   "cell_type": "code",
   "execution_count": null,
   "id": "8c1a9d97-9c69-464f-84ee-37075b86075b",
   "metadata": {},
   "outputs": [],
   "source": [
    "import torch\n",
    "\n",
    "\n",
    "cpu = torch.FloatTensor([1, 2, 3])\n",
    "gpu = cpu.cuda()\n",
    "gpu2cpu = gpu.cpu()\n",
    "print(cpu)\n",
    "print(gpu)\n",
    "print(gpu2cpu)"
   ]
  }
 ],
 "metadata": {
  "kernelspec": {
   "display_name": "Python 3 (ipykernel)",
   "language": "python",
   "name": "python3"
  },
  "language_info": {
   "codemirror_mode": {
    "name": "ipython",
    "version": 3
   },
   "file_extension": ".py",
   "mimetype": "text/x-python",
   "name": "python",
   "nbconvert_exporter": "python",
   "pygments_lexer": "ipython3",
   "version": "3.9.13"
  }
 },
 "nbformat": 4,
 "nbformat_minor": 5
}
