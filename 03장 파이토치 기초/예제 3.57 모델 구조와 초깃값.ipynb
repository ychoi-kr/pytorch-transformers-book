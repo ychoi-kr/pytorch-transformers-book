{
 "cells": [
  {
   "cell_type": "code",
   "execution_count": null,
   "id": "106f9290-44cb-4e25-92c7-678336595165",
   "metadata": {},
   "outputs": [],
   "source": [
    "import torch\n",
    "from torch import nn\n",
    "from torch import optim\n",
    "\n",
    "\n",
    "class CustomModel(nn.Module):\n",
    "    def __init__(self):\n",
    "        super().__init__()\n",
    "\n",
    "        self.layer1 = nn.Sequential(\n",
    "            nn.Linear(2, 2),\n",
    "            nn.Sigmoid()\n",
    "        )\n",
    "        self.layer2 = nn.Sequential(\n",
    "            nn.Linear(2, 1),\n",
    "            nn.Sigmoid()\n",
    "        )\n",
    "        \n",
    "        self.layer1[0].weight.data = torch.nn.Parameter(\n",
    "            torch.Tensor([[0.4352, 0.3545],\n",
    "                         [0.1951, 0.4835]])\n",
    "        )\n",
    "\n",
    "        self.layer1[0].bias.data = torch.nn.Parameter(\n",
    "            torch.Tensor([-0.1419,  0.0439])\n",
    "        )\n",
    "\n",
    "        self.layer2[0].weight.data = torch.nn.Parameter(\n",
    "            torch.Tensor([[-0.1725,  0.1129]])\n",
    "        )\n",
    "\n",
    "        self.layer2[0].bias.data = torch.nn.Parameter(\n",
    "            torch.Tensor([-0.3043])\n",
    "        )\n",
    "\n",
    "device = \"cuda\" if torch.cuda.is_available() else \"cpu\"\n",
    "model = CustomModel().to(device)\n",
    "criterion = nn.BCELoss().to(device)\n",
    "optimizer = optim.SGD(model.parameters(), lr=1)"
   ]
  }
 ],
 "metadata": {
  "kernelspec": {
   "display_name": "Python 3 (ipykernel)",
   "language": "python",
   "name": "python3"
  },
  "language_info": {
   "codemirror_mode": {
    "name": "ipython",
    "version": 3
   },
   "file_extension": ".py",
   "mimetype": "text/x-python",
   "name": "python",
   "nbconvert_exporter": "python",
   "pygments_lexer": "ipython3",
   "version": "3.9.13"
  }
 },
 "nbformat": 4,
 "nbformat_minor": 5
}
