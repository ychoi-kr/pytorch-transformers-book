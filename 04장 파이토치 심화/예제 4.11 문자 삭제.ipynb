{
 "cells": [
  {
   "cell_type": "code",
   "execution_count": null,
   "id": "07f0d6ec-74d8-4487-9137-0d382d531fab",
   "metadata": {},
   "outputs": [],
   "source": [
    "import nlpaug.augmenter.char as nac\n",
    "\n",
    "\n",
    "texts = [\n",
    "    \"Those who can imagine anything, can create the impossible.\",\n",
    "    \"We can only see a short distance ahead, but we can see plenty there that needs to be done.\",\n",
    "    \"If a machine is expected to be infallible, it cannot also be intelligent.\",\n",
    "]\n",
    "\n",
    "aug = nac.RandomCharAug(action=\"delete\")\n",
    "augmented_texts = aug.augment(texts)\n",
    "\n",
    "for text, augmented in zip(texts, augmented_texts):\n",
    "    print(f\"src : {text}\")\n",
    "    print(f\"dst : {augmented}\")\n",
    "    print(\"------------------\")"
   ]
  }
 ],
 "metadata": {
  "kernelspec": {
   "display_name": "Python 3 (ipykernel)",
   "language": "python",
   "name": "python3"
  },
  "language_info": {
   "codemirror_mode": {
    "name": "ipython",
    "version": 3
   },
   "file_extension": ".py",
   "mimetype": "text/x-python",
   "name": "python",
   "nbconvert_exporter": "python",
   "pygments_lexer": "ipython3",
   "version": "3.9.13"
  }
 },
 "nbformat": 4,
 "nbformat_minor": 5
}
