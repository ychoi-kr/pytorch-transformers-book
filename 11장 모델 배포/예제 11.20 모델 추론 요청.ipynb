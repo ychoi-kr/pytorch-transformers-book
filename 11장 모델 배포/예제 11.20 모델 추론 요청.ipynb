{
 "cells": [
  {
   "cell_type": "code",
   "execution_count": null,
   "id": "f49f0bd8-df62-4097-9d3e-9378e48c8e9b",
   "metadata": {},
   "outputs": [],
   "source": [
    "import io\n",
    "import json\n",
    "import base64\n",
    "import requests\n",
    "from PIL import Image\n",
    "\n",
    "\n",
    "url = \"http://127.0.0.1:8000/predict\"\n",
    "headers = {\"content-type\": \"application/json\"}\n",
    "\n",
    "image = Image.open(\"../datasets/images/dog.jpg\")\n",
    "with io.BytesIO() as buffer:\n",
    "    image.save(buffer, format=\"JPEG\")\n",
    "    buffer.seek(0)\n",
    "    bytes = buffer.read()\n",
    "string = base64.b64encode(bytes).decode(\"utf-8\")\n",
    "\n",
    "response = requests.post(\n",
    "    url=url,\n",
    "    headers=headers,\n",
    "    data=json.dumps({\"base64\": string})\n",
    ")\n",
    "\n",
    "print(response.status_code)\n",
    "print(response.json())"
   ]
  }
 ],
 "metadata": {
  "kernelspec": {
   "display_name": "Python 3 (ipykernel)",
   "language": "python",
   "name": "python3"
  },
  "language_info": {
   "codemirror_mode": {
    "name": "ipython",
    "version": 3
   },
   "file_extension": ".py",
   "mimetype": "text/x-python",
   "name": "python",
   "nbconvert_exporter": "python",
   "pygments_lexer": "ipython3",
   "version": "3.9.13"
  }
 },
 "nbformat": 4,
 "nbformat_minor": 5
}
