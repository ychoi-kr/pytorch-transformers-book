{
 "cells": [
  {
   "cell_type": "code",
   "execution_count": null,
   "id": "f49f0bd8-df62-4097-9d3e-9378e48c8e9b",
   "metadata": {},
   "outputs": [],
   "source": [
    "import torch\n",
    "from torch import onnx\n",
    "from torchvision import models\n",
    "\n",
    "\n",
    "model = models.vgg16(num_classes=2)\n",
    "model.load_state_dict(torch.load(\"../models/VGG16.pt\"))\n",
    "model.eval()\n",
    "\n",
    "dummy_input = torch.randn(1, 3, 224, 224)\n",
    "onnx.export(model=model, args=dummy_input, f=\"../models/VGG16.onnx\")"
   ]
  }
 ],
 "metadata": {
  "kernelspec": {
   "display_name": "Python 3 (ipykernel)",
   "language": "python",
   "name": "python3"
  },
  "language_info": {
   "codemirror_mode": {
    "name": "ipython",
    "version": 3
   },
   "file_extension": ".py",
   "mimetype": "text/x-python",
   "name": "python",
   "nbconvert_exporter": "python",
   "pygments_lexer": "ipython3",
   "version": "3.9.13"
  }
 },
 "nbformat": 4,
 "nbformat_minor": 5
}
