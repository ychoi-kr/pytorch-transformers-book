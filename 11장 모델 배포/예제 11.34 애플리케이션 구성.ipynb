{
 "cells": [
  {
   "cell_type": "code",
   "execution_count": null,
   "id": "f49f0bd8-df62-4097-9d3e-9378e48c8e9b",
   "metadata": {},
   "outputs": [],
   "source": [
    "# demo.py\n",
    "import pandas as pd\n",
    "import streamlit as st\n",
    "\n",
    "\n",
    "st.set_page_config(\n",
    "    page_title=\"데모 애플리케이션\",\n",
    "    page_icon=\":shark:\",\n",
    "    layout=\"wide\"\n",
    ")\n",
    "\n",
    "df = pd.read_csv(\"../datasets/non_linear.csv\")\n",
    "\n",
    "st.header(body=\"Demo Application\")\n",
    "st.subheader(body=\"non_linear.csv\")\n",
    "\n",
    "x = st.sidebar.selectbox(label=\"X 축\", options=df.columns, index=0)\n",
    "y = st.sidebar.selectbox(label=\"Y 축\", options=df.columns, index=1)\n",
    "\n",
    "col1, col2 = st.columns(2)\n",
    "with col1:\n",
    "    st.dataframe(data=df, height=500, use_container_width=True)\n",
    "with col2:\n",
    "    st.line_chart(data=df, x=x, y=y, height=500)"
   ]
  }
 ],
 "metadata": {
  "kernelspec": {
   "display_name": "Python 3 (ipykernel)",
   "language": "python",
   "name": "python3"
  },
  "language_info": {
   "codemirror_mode": {
    "name": "ipython",
    "version": 3
   },
   "file_extension": ".py",
   "mimetype": "text/x-python",
   "name": "python",
   "nbconvert_exporter": "python",
   "pygments_lexer": "ipython3",
   "version": "3.9.13"
  }
 },
 "nbformat": 4,
 "nbformat_minor": 5
}
