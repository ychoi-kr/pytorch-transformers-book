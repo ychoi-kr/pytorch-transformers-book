{
 "cells": [
  {
   "cell_type": "code",
   "execution_count": null,
   "id": "f49f0bd8-df62-4097-9d3e-9378e48c8e9b",
   "metadata": {},
   "outputs": [],
   "source": [
    "import os\n",
    "import torch\n",
    "from torch import nn\n",
    "from torch.ao import quantization\n",
    "from torchvision import models\n",
    "\n",
    "\n",
    "model = models.vgg16(num_classes=2)\n",
    "model.load_state_dict(torch.load(\"../models/VGG16.pt\"))\n",
    "device = \"cuda\" if torch.cuda.is_available() else \"cpu\"\n",
    "model = model.to(device)\n",
    "model.eval()\n",
    "\n",
    "model_dynamic_quantized = quantization.quantize_dynamic(\n",
    "    model=model,\n",
    "    qconfig_spec={nn.Linear},\n",
    "    dtype=torch.qint8\n",
    ")\n",
    "model_dynamic_quantized.eval()\n",
    "torch.save(model_dynamic_quantized.state_dict(), \"../models/PTDQ_VGG16.pt\")\n",
    "\n",
    "file_size = os.path.getsize(\"../models/VGG16.pt\") / 1e6\n",
    "print(\"양자화 적용 전:\")\n",
    "print(f\"파일 크기: {file_size:.2f} MB\")\n",
    "print(model.classifier)\n",
    "print(\"\\n\")\n",
    "\n",
    "file_size = os.path.getsize(\"../models/PTDQ_VGG16.pt\") / 1e6\n",
    "print(\"양자화 적용 후:\")\n",
    "print(f\"파일 크기: {file_size:.2f} MB\")\n",
    "print(model_dynamic_quantized.classifier)"
   ]
  }
 ],
 "metadata": {
  "kernelspec": {
   "display_name": "Python 3 (ipykernel)",
   "language": "python",
   "name": "python3"
  },
  "language_info": {
   "codemirror_mode": {
    "name": "ipython",
    "version": 3
   },
   "file_extension": ".py",
   "mimetype": "text/x-python",
   "name": "python",
   "nbconvert_exporter": "python",
   "pygments_lexer": "ipython3",
   "version": "3.9.13"
  }
 },
 "nbformat": 4,
 "nbformat_minor": 5
}
