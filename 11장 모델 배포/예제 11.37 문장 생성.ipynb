{
 "cells": [
  {
   "cell_type": "code",
   "execution_count": null,
   "id": "f49f0bd8-df62-4097-9d3e-9378e48c8e9b",
   "metadata": {},
   "outputs": [],
   "source": [
    "# demo.py\n",
    "import streamlit as st\n",
    "from transformers import pipeline\n",
    "\n",
    "\n",
    "@st.cache_resource\n",
    "def load_model():\n",
    "    return pipeline(task=\"text-generation\", model=\"gpt2\")\n",
    "\n",
    "\n",
    "model = load_model()\n",
    "\n",
    "text = st.text_input(\"텍스트 입력\", value=\"Machine learning is\")\n",
    "if text:\n",
    "    result = model(\n",
    "        text_inputs=text,\n",
    "        max_length=30,\n",
    "        num_return_sequences=3,\n",
    "        pad_token_id=model.tokenizer.eos_token_id,\n",
    "    )\n",
    "    st.write(result)"
   ]
  }
 ],
 "metadata": {
  "kernelspec": {
   "display_name": "Python 3 (ipykernel)",
   "language": "python",
   "name": "python3"
  },
  "language_info": {
   "codemirror_mode": {
    "name": "ipython",
    "version": 3
   },
   "file_extension": ".py",
   "mimetype": "text/x-python",
   "name": "python",
   "nbconvert_exporter": "python",
   "pygments_lexer": "ipython3",
   "version": "3.9.13"
  }
 },
 "nbformat": 4,
 "nbformat_minor": 5
}
