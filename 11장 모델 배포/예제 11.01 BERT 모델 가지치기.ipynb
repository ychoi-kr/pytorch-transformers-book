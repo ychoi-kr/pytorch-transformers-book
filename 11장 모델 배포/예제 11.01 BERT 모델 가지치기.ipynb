{
 "cells": [
  {
   "cell_type": "code",
   "execution_count": null,
   "id": "f49f0bd8-df62-4097-9d3e-9378e48c8e9b",
   "metadata": {},
   "outputs": [],
   "source": [
    "import torch\n",
    "from torch.nn.utils import prune\n",
    "from transformers import BertTokenizer, BertForSequenceClassification\n",
    "\n",
    "\n",
    "tokenizer = BertTokenizer.from_pretrained(\n",
    "    pretrained_model_name_or_path=\"bert-base-multilingual-cased\",\n",
    "    do_lower_case=False,\n",
    ")\n",
    "model = BertForSequenceClassification.from_pretrained(\n",
    "    pretrained_model_name_or_path=\"bert-base-multilingual-cased\",\n",
    "    num_labels=2\n",
    ")\n",
    "model.load_state_dict(torch.load(\"../models/BertForSequenceClassification.pt\"))\n",
    "\n",
    "print(\"가지치기 적용 전:\")\n",
    "print(model.bert.encoder.layer[0].attention.self.key.weight)\n",
    "\n",
    "parameters = [\n",
    "    (model.bert.embeddings.word_embeddings, \"weight\"),\n",
    "    (model.bert.encoder.layer[0].attention.self.key, \"weight\"),\n",
    "    (model.bert.encoder.layer[1].attention.self.key, \"weight\"),\n",
    "    (model.bert.encoder.layer[2].attention.self.key, \"weight\"),\n",
    "]\n",
    "prune.global_unstructured(\n",
    "    parameters=parameters,\n",
    "    pruning_method=prune.L1Unstructured,\n",
    "    amount=0.2\n",
    ")\n",
    "\n",
    "print(\"가지치기 적용 후:\")\n",
    "print(model.bert.encoder.layer[0].attention.self.key.weight)"
   ]
  }
 ],
 "metadata": {
  "kernelspec": {
   "display_name": "Python 3 (ipykernel)",
   "language": "python",
   "name": "python3"
  },
  "language_info": {
   "codemirror_mode": {
    "name": "ipython",
    "version": 3
   },
   "file_extension": ".py",
   "mimetype": "text/x-python",
   "name": "python",
   "nbconvert_exporter": "python",
   "pygments_lexer": "ipython3",
   "version": "3.9.13"
  }
 },
 "nbformat": 4,
 "nbformat_minor": 5
}
