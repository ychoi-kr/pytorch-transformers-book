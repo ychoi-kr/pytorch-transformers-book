{
 "cells": [
  {
   "cell_type": "code",
   "execution_count": null,
   "id": "f72bfb8a-fe55-4bb4-bab1-fd27cea72c56",
   "metadata": {},
   "outputs": [],
   "source": [
    "from torchvision import models\n",
    "from torchinfo import summary\n",
    "\n",
    "\n",
    "model = models.alexnet(weights=\"AlexNet_Weights.IMAGENET1K_V1\")\n",
    "summary(model, (1, 3, 224, 224), device=\"cpu\")"
   ]
  },
  {
   "cell_type": "code",
   "execution_count": null,
   "id": "6c6d74f1-5526-4aa1-9f12-aff2d2731367",
   "metadata": {},
   "outputs": [],
   "source": [
    "with open(\"../datasets/imagenet_classes.txt\", \"r\") as file:\n",
    "    classes = file.read().splitlines()\n",
    "    \n",
    "print(f\"클래스 개수 : {len(classes)}\")\n",
    "print(f\"첫 번째 클래스 레이블 : {classes[0]}\")"
   ]
  },
  {
   "cell_type": "code",
   "execution_count": null,
   "id": "a919bc32-b25a-40ec-9b09-ded68821ef27",
   "metadata": {},
   "outputs": [],
   "source": [
    "import torch\n",
    "from PIL import Image\n",
    "from torchvision import models, transforms\n",
    "\n",
    "\n",
    "transform = transforms.Compose(\n",
    "    [\n",
    "        transforms.Resize((224, 224)),\n",
    "        transforms.ToTensor(),\n",
    "        transforms.Normalize(\n",
    "            mean=[0.485, 0.456, 0.406],\n",
    "            std=[0.229, 0.224, 0.225]\n",
    "        ),\n",
    "    ]\n",
    ")\n",
    "\n",
    "device = \"cuda\" if torch.cuda.is_available() else \"cpu\"\n",
    "model = models.alexnet(weights=\"AlexNet_Weights.IMAGENET1K_V1\").eval().to(device)\n",
    "\n",
    "tensors = []\n",
    "files = [\"../datasets/images/airplane.jpg\", \"../datasets/images/bus.jpg\"]\n",
    "for file in files:\n",
    "    image = Image.open(file)\n",
    "    tensors.append(transform(image))\n",
    "\n",
    "tensors = torch.stack(tensors)\n",
    "print(f\"입력 텐서의 크기 : {tensors.shape}\")"
   ]
  },
  {
   "cell_type": "code",
   "execution_count": null,
   "id": "0cc3cddd-2615-4867-9697-e82d922aedf7",
   "metadata": {},
   "outputs": [],
   "source": [
    "import numpy as np\n",
    "from torch.nn import functional as F\n",
    "\n",
    "\n",
    "with torch.no_grad():\n",
    "    outputs = model(tensors.to(device))\n",
    "    probs = F.softmax(outputs, dim=-1)\n",
    "    top_probs, top_idxs = probs.topk(5)\n",
    "\n",
    "top_probs = top_probs.detach().cpu().numpy()\n",
    "top_idxs = top_idxs.detach().cpu().numpy()\n",
    "top_classes = np.array(classes)[top_idxs]\n",
    "\n",
    "for idx, (cls, prob) in enumerate(zip(top_classes, top_probs)):\n",
    "    print(f\"{files[idx]} 추론 결과\")\n",
    "    for c, p in zip(cls, prob):\n",
    "        print(f\" - {c:<30} : {p * 100:>5.2f}%\")"
   ]
  }
 ],
 "metadata": {
  "kernelspec": {
   "display_name": "Python 3 (ipykernel)",
   "language": "python",
   "name": "python3"
  },
  "language_info": {
   "codemirror_mode": {
    "name": "ipython",
    "version": 3
   },
   "file_extension": ".py",
   "mimetype": "text/x-python",
   "name": "python",
   "nbconvert_exporter": "python",
   "pygments_lexer": "ipython3",
   "version": "3.9.13"
  }
 },
 "nbformat": 4,
 "nbformat_minor": 5
}
