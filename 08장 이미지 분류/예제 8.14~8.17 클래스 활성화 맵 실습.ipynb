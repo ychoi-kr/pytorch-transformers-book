{
 "cells": [
  {
   "cell_type": "code",
   "execution_count": null,
   "id": "14d53aaf-b04b-4df0-9079-85deb9faf606",
   "metadata": {},
   "outputs": [],
   "source": [
    "from torch import nn\n",
    "from torchvision import models\n",
    "\n",
    "\n",
    "model = models.resnet18(weights=\"ResNet18_Weights.IMAGENET1K_V1\").eval()\n",
    "features = nn.Sequential(*list(model.children())[:-2])"
   ]
  },
  {
   "cell_type": "code",
   "execution_count": null,
   "id": "f7423527-4d43-4176-b2df-ba8468c594fc",
   "metadata": {},
   "outputs": [],
   "source": [
    "from PIL import Image\n",
    "from torchvision import transforms\n",
    "\n",
    "\n",
    "transform = transforms.Compose(\n",
    "    [\n",
    "        transforms.Resize((224, 224)),\n",
    "        transforms.ToTensor(),\n",
    "        transforms.Normalize(\n",
    "            mean=[0.485, 0.456, 0.406],\n",
    "            std=[0.229, 0.224, 0.225]\n",
    "        ),\n",
    "    ]\n",
    ")\n",
    "\n",
    "image = Image.open(\"../datasets/images/airplane.jpg\")\n",
    "target = transform(image).unsqueeze(0)\n",
    "\n",
    "output = model(target)\n",
    "class_idx = int(output.argmax())\n",
    "\n",
    "weights = model.fc.weight[class_idx].reshape(-1, 1, 1)\n",
    "features_output = features(target).squeeze()\n",
    "\n",
    "print(weights.shape)\n",
    "print(features_output.shape)"
   ]
  },
  {
   "cell_type": "code",
   "execution_count": null,
   "id": "4611dd2d-64d4-4eda-b7d9-3583a2927129",
   "metadata": {},
   "outputs": [],
   "source": [
    "import torch\n",
    "from torch.nn import functional as F\n",
    "\n",
    "\n",
    "cam = features_output * weights\n",
    "cam = torch.sum(cam, dim=0)\n",
    "cam = F.interpolate(\n",
    "    input=cam.unsqueeze(0).unsqueeze(0),\n",
    "    size=(image.size[1], image.size[0]),\n",
    "    mode=\"bilinear\",\n",
    ").squeeze().detach().numpy()"
   ]
  },
  {
   "cell_type": "code",
   "execution_count": null,
   "id": "92ce0bb0-7e57-401a-afb3-fe2e1e45297c",
   "metadata": {},
   "outputs": [],
   "source": [
    "import matplotlib.pyplot as plt\n",
    "\n",
    "\n",
    "plt.imshow(image)\n",
    "plt.imshow(cam, cmap=\"jet\", alpha=0.5)\n",
    "plt.axis(\"off\")\n",
    "plt.show()"
   ]
  }
 ],
 "metadata": {
  "kernelspec": {
   "display_name": "Python 3 (ipykernel)",
   "language": "python",
   "name": "python3"
  },
  "language_info": {
   "codemirror_mode": {
    "name": "ipython",
    "version": 3
   },
   "file_extension": ".py",
   "mimetype": "text/x-python",
   "name": "python",
   "nbconvert_exporter": "python",
   "pygments_lexer": "ipython3",
   "version": "3.9.13"
  }
 },
 "nbformat": 4,
 "nbformat_minor": 5
}
