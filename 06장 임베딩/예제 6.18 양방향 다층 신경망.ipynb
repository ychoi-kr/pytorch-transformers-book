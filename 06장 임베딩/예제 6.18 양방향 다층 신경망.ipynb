{
 "cells": [
  {
   "cell_type": "code",
   "execution_count": null,
   "id": "41d5a81c-54be-4c00-9378-4be0122ba613",
   "metadata": {},
   "outputs": [],
   "source": [
    "import torch\n",
    "from torch import nn\n",
    "\n",
    "\n",
    "input_size = 128\n",
    "ouput_size = 256\n",
    "num_layers = 3\n",
    "bidirectional = True\n",
    "\n",
    "model = nn.RNN(\n",
    "    input_size=input_size,\n",
    "    hidden_size=ouput_size,\n",
    "    num_layers=num_layers,\n",
    "    nonlinearity=\"tanh\",\n",
    "    batch_first=True,\n",
    "    bidirectional=bidirectional,\n",
    ")\n",
    "\n",
    "batch_size = 4\n",
    "sequence_len = 6\n",
    "\n",
    "inputs = torch.randn(batch_size, sequence_len, input_size)\n",
    "h_0 = torch.rand(num_layers * (int(bidirectional) + 1), batch_size, ouput_size)\n",
    "\n",
    "outputs, hidden = model(inputs, h_0)\n",
    "print(outputs.shape)\n",
    "print(hidden.shape)"
   ]
  }
 ],
 "metadata": {
  "kernelspec": {
   "display_name": "Python 3 (ipykernel)",
   "language": "python",
   "name": "python3"
  },
  "language_info": {
   "codemirror_mode": {
    "name": "ipython",
    "version": 3
   },
   "file_extension": ".py",
   "mimetype": "text/x-python",
   "name": "python",
   "nbconvert_exporter": "python",
   "pygments_lexer": "ipython3",
   "version": "3.9.13"
  }
 },
 "nbformat": 4,
 "nbformat_minor": 5
}
