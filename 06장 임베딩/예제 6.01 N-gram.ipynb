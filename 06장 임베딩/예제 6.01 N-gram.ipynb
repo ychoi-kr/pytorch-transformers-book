{
 "cells": [
  {
   "cell_type": "code",
   "execution_count": null,
   "id": "ee13d109-b972-429c-94c9-55dd7f37f749",
   "metadata": {},
   "outputs": [],
   "source": [
    "import nltk\n",
    "\n",
    "\n",
    "def ngrams(sentence, n):\n",
    "    words = sentence.split()\n",
    "    ngrams = zip(*[words[i:] for i in range(n)])\n",
    "    return list(ngrams)\n",
    "\n",
    "sentence = \"안녕하세요 만나서 진심으로 반가워요\"\n",
    "\n",
    "unigram = ngrams(sentence, 1)\n",
    "bigram = ngrams(sentence, 2)\n",
    "trigram = ngrams(sentence, 3)\n",
    "\n",
    "print(unigram)\n",
    "print(bigram)\n",
    "print(trigram)\n",
    "\n",
    "unigram = nltk.ngrams(sentence.split(), 1)\n",
    "bigram = nltk.ngrams(sentence.split(), 2)\n",
    "trigram = nltk.ngrams(sentence.split(), 3)\n",
    "\n",
    "print(list(unigram))\n",
    "print(list(bigram))\n",
    "print(list(trigram))"
   ]
  }
 ],
 "metadata": {
  "kernelspec": {
   "display_name": "Python 3 (ipykernel)",
   "language": "python",
   "name": "python3"
  },
  "language_info": {
   "codemirror_mode": {
    "name": "ipython",
    "version": 3
   },
   "file_extension": ".py",
   "mimetype": "text/x-python",
   "name": "python",
   "nbconvert_exporter": "python",
   "pygments_lexer": "ipython3",
   "version": "3.9.13"
  }
 },
 "nbformat": 4,
 "nbformat_minor": 5
}
