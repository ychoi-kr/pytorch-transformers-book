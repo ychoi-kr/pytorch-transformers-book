{
 "cells": [
  {
   "cell_type": "code",
   "execution_count": null,
   "id": "b613f94b-4bad-4962-8f6f-8344972168d5",
   "metadata": {},
   "outputs": [],
   "source": [
    "from sentencepiece import SentencePieceTrainer\n",
    "\n",
    "\n",
    "SentencePieceTrainer.Train(\n",
    "    \"--input=../datasets/corpus.txt\\\n",
    "    --model_prefix=petition_bpe\\\n",
    "    --vocab_size=8000 model_type=bpe\"\n",
    ")"
   ]
  }
 ],
 "metadata": {
  "kernelspec": {
   "display_name": "Python 3 (ipykernel)",
   "language": "python",
   "name": "python3"
  },
  "language_info": {
   "codemirror_mode": {
    "name": "ipython",
    "version": 3
   },
   "file_extension": ".py",
   "mimetype": "text/x-python",
   "name": "python",
   "nbconvert_exporter": "python",
   "pygments_lexer": "ipython3",
   "version": "3.9.13"
  }
 },
 "nbformat": 4,
 "nbformat_minor": 5
}
