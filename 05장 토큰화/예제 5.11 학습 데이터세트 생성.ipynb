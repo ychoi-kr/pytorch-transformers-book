{
 "cells": [
  {
   "cell_type": "code",
   "execution_count": null,
   "id": "8e2d6d57-69dd-41e8-9deb-46adcb8498c9",
   "metadata": {},
   "outputs": [],
   "source": [
    "from Korpora import Korpora\n",
    "\n",
    "\n",
    "corpus = Korpora.load(\"korean_petitions\")\n",
    "petitions = corpus.get_all_texts()\n",
    "with open(\"../datasets/corpus.txt\", \"w\", encoding=\"utf-8\") as f:\n",
    "    for petition in petitions:\n",
    "        f.write(petition + \"\\n\")"
   ]
  },
  {
   "cell_type": "code",
   "execution_count": null,
   "id": "b613f94b-4bad-4962-8f6f-8344972168d5",
   "metadata": {},
   "outputs": [],
   "source": []
  }
 ],
 "metadata": {
  "kernelspec": {
   "display_name": "Python 3 (ipykernel)",
   "language": "python",
   "name": "python3"
  },
  "language_info": {
   "codemirror_mode": {
    "name": "ipython",
    "version": 3
   },
   "file_extension": ".py",
   "mimetype": "text/x-python",
   "name": "python",
   "nbconvert_exporter": "python",
   "pygments_lexer": "ipython3",
   "version": "3.9.13"
  }
 },
 "nbformat": 4,
 "nbformat_minor": 5
}
