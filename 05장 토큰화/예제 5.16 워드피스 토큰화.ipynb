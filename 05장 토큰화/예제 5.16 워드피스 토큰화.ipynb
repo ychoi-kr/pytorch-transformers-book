{
 "cells": [
  {
   "cell_type": "code",
   "execution_count": null,
   "id": "f7bee282-8abe-4914-9b4b-efe9d737e6e6",
   "metadata": {},
   "outputs": [],
   "source": [
    "from tokenizers import Tokenizer\n",
    "from tokenizers.decoders import WordPiece as WordPieceDecoder\n",
    "\n",
    "\n",
    "tokenizer = Tokenizer.from_file(\"../models/petition_wordpiece.json\")\n",
    "tokenizer.decoder = WordPieceDecoder()\n",
    "\n",
    "sentence = \"안녕하세요, 토크나이저가 잘 학습되었군요!\"\n",
    "sentences = [\"이렇게 입력값을 리스트로 받아서\", \"쉽게 토크나이저를 사용할 수 있답니다\"]\n",
    "\n",
    "encoded_sentence = tokenizer.encode(sentence)\n",
    "encoded_sentences = tokenizer.encode_batch(sentences)\n",
    "\n",
    "print(\"인코더 형식 :\", type(encoded_sentence))\n",
    "\n",
    "print(\"단일 문장 토큰화 :\", encoded_sentence.tokens)\n",
    "print(\"여러 문장 토큰화 :\", [enc.tokens for enc in encoded_sentences])\n",
    "\n",
    "print(\"단일 문장 정수 인코딩 :\", encoded_sentence.ids)\n",
    "print(\"여러 문장 정수 인코딩 :\", [enc.ids for enc in encoded_sentences])\n",
    "\n",
    "print(\"정수 인코딩에서 문장 변환 :\", tokenizer.decode(encoded_sentence.ids))"
   ]
  }
 ],
 "metadata": {
  "kernelspec": {
   "display_name": "Python 3 (ipykernel)",
   "language": "python",
   "name": "python3"
  },
  "language_info": {
   "codemirror_mode": {
    "name": "ipython",
    "version": 3
   },
   "file_extension": ".py",
   "mimetype": "text/x-python",
   "name": "python",
   "nbconvert_exporter": "python",
   "pygments_lexer": "ipython3",
   "version": "3.9.13"
  }
 },
 "nbformat": 4,
 "nbformat_minor": 5
}
