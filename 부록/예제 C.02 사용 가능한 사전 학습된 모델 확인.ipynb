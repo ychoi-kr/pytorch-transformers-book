{
 "cells": [
  {
   "cell_type": "code",
   "execution_count": null,
   "id": "96ac87e7-9a74-40d2-ac1a-7a9330b6e5fa",
   "metadata": {},
   "outputs": [],
   "source": [
    "import timm\n",
    "\n",
    "\n",
    "avail_models = timm.list_models()\n",
    "avail_pretrained_models = timm.list_models(pretrained=True)\n",
    "print(\"사용 가능한 모델 수 :\", len(avail_models))\n",
    "print(\"사용 가능한 사전 학습 모델 수 :\", len(avail_pretrained_models))\n",
    "print(\"사용 가능한 모델 이름 :\", avail_pretrained_models[:5])"
   ]
  }
 ],
 "metadata": {
  "kernelspec": {
   "display_name": "Python 3 (ipykernel)",
   "language": "python",
   "name": "python3"
  },
  "language_info": {
   "codemirror_mode": {
    "name": "ipython",
    "version": 3
   },
   "file_extension": ".py",
   "mimetype": "text/x-python",
   "name": "python",
   "nbconvert_exporter": "python",
   "pygments_lexer": "ipython3",
   "version": "3.9.13"
  }
 },
 "nbformat": 4,
 "nbformat_minor": 5
}
