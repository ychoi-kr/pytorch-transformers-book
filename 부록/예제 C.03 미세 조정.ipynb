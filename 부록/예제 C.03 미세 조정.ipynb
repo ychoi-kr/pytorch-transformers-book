{
 "cells": [
  {
   "cell_type": "code",
   "execution_count": null,
   "id": "c77e1e5b-e47d-4447-9e6e-b596ed549f7f",
   "metadata": {},
   "outputs": [],
   "source": [
    "from fastai.vision.all import (\n",
    "    URLs,\n",
    "    untar_data,\n",
    "    ImageDataLoaders,\n",
    "    Resize,\n",
    "    get_image_files,\n",
    "    error_rate,\n",
    "    vision_learner,\n",
    ")\n",
    "\n",
    "\n",
    "def is_upper(x):\n",
    "    return x[0].isupper()\n",
    "\n",
    "\n",
    "path = untar_data(URLs.PETS) / \"images\"\n",
    "print(\"Path:\", path)\n",
    "\n",
    "dls = ImageDataLoaders.from_name_func(\n",
    "    path,\n",
    "    get_image_files(path),\n",
    "    bs=32,\n",
    "    valid_pct=0.2,\n",
    "    label_func=is_upper,\n",
    "    item_tfms=Resize(224),\n",
    ")\n",
    "\n",
    "learn = vision_learner(dls, \"vit_tiny_patch16_224\", metrics=error_rate)\n",
    "learn.fine_tune(1)"
   ]
  }
 ],
 "metadata": {
  "kernelspec": {
   "display_name": "Python 3 (ipykernel)",
   "language": "python",
   "name": "python3"
  },
  "language_info": {
   "codemirror_mode": {
    "name": "ipython",
    "version": 3
   },
   "file_extension": ".py",
   "mimetype": "text/x-python",
   "name": "python",
   "nbconvert_exporter": "python",
   "pygments_lexer": "ipython3",
   "version": "3.9.13"
  }
 },
 "nbformat": 4,
 "nbformat_minor": 5
}
