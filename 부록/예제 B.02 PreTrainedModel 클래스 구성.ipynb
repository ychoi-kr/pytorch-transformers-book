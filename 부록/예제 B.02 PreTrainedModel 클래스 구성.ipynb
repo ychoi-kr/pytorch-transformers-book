{
 "cells": [
  {
   "cell_type": "code",
   "execution_count": null,
   "id": "1b3fb489-b252-4383-b024-7e47925395f6",
   "metadata": {},
   "outputs": [],
   "source": [
    "from transformers import BertConfig, BertModel\n",
    "\n",
    "\n",
    "def print_architecture(model):\n",
    "    for main_name, main_module in model.named_children():\n",
    "        print(main_name)\n",
    "        for sub_name, sub_module in main_module.named_children():\n",
    "            print(\"└\", sub_name)\n",
    "            for ssub_name, ssub_module in sub_module.named_children():\n",
    "                print(\"│  └\", ssub_name)\n",
    "                for sssub_name, sssub_module in ssub_module.named_children():\n",
    "                    print(\"│    └\", sssub_name)\n",
    "\n",
    "config = BertConfig.from_pretrained(\"bert-base-uncased\")\n",
    "config.update({\"num_hidden_layers\":2})\n",
    "model = BertModel(config)\n",
    "print_architecture(model)"
   ]
  }
 ],
 "metadata": {
  "kernelspec": {
   "display_name": "Python 3 (ipykernel)",
   "language": "python",
   "name": "python3"
  },
  "language_info": {
   "codemirror_mode": {
    "name": "ipython",
    "version": 3
   },
   "file_extension": ".py",
   "mimetype": "text/x-python",
   "name": "python",
   "nbconvert_exporter": "python",
   "pygments_lexer": "ipython3",
   "version": "3.9.13"
  }
 },
 "nbformat": 4,
 "nbformat_minor": 5
}
