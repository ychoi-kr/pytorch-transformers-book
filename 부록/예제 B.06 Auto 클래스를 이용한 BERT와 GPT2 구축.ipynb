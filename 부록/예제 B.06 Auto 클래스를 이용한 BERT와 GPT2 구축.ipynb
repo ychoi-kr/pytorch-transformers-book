{
 "cells": [
  {
   "cell_type": "code",
   "execution_count": null,
   "id": "08b4c895-fc76-47df-9367-38dcf636b375",
   "metadata": {},
   "outputs": [],
   "source": [
    "import torch\n",
    "from transformers import AutoModel, AutoTokenizer\n",
    "\n",
    "\n",
    "bert = AutoModel.from_pretrained(\"bert-base-uncased\")\n",
    "bert_tokenizer = AutoTokenizer.from_pretrained(\"bert-base-uncased\")\n",
    "\n",
    "gpt2 = AutoModel.from_pretrained(\"gpt2\")\n",
    "gpt2_tokenizer = AutoTokenizer.from_pretrained(\"gpt2\")\n",
    "\n",
    "sentence = \"AutoClass is so convenient method\"\n",
    "\n",
    "with torch.no_grad():\n",
    "    bert_output = bert(**bert_tokenizer(sentence, return_tensors=\"pt\"))\n",
    "    gpt2_output = gpt2(**gpt2_tokenizer(sentence, return_tensors=\"pt\"))"
   ]
  }
 ],
 "metadata": {
  "kernelspec": {
   "display_name": "Python 3 (ipykernel)",
   "language": "python",
   "name": "python3"
  },
  "language_info": {
   "codemirror_mode": {
    "name": "ipython",
    "version": 3
   },
   "file_extension": ".py",
   "mimetype": "text/x-python",
   "name": "python",
   "nbconvert_exporter": "python",
   "pygments_lexer": "ipython3",
   "version": "3.9.13"
  }
 },
 "nbformat": 4,
 "nbformat_minor": 5
}
