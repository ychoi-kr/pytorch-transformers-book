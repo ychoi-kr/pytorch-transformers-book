{
 "cells": [
  {
   "cell_type": "code",
   "execution_count": null,
   "id": "f49f0bd8-df62-4097-9d3e-9378e48c8e9b",
   "metadata": {},
   "outputs": [],
   "source": [
    "import torch\n",
    "from torch.utils import checkpoint as cp\n",
    "\n",
    "\n",
    "def function(x, y):\n",
    "    z = x + y\n",
    "    w = z * y\n",
    "    return w\n",
    "\n",
    "x = torch.randn(1000, 1000, requires_grad=True)\n",
    "y = torch.randn(1000, 1000, requires_grad=True)\n",
    "result = cp.checkpoint(function, x, y)"
   ]
  }
 ],
 "metadata": {
  "kernelspec": {
   "display_name": "Python 3 (ipykernel)",
   "language": "python",
   "name": "python3"
  },
  "language_info": {
   "codemirror_mode": {
    "name": "ipython",
    "version": 3
   },
   "file_extension": ".py",
   "mimetype": "text/x-python",
   "name": "python",
   "nbconvert_exporter": "python",
   "pygments_lexer": "ipython3",
   "version": "3.9.13"
  }
 },
 "nbformat": 4,
 "nbformat_minor": 5
}
