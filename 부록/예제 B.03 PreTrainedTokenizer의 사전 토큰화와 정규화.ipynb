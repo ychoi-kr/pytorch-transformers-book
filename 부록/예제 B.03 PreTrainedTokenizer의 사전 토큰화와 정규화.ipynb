{
 "cells": [
  {
   "cell_type": "code",
   "execution_count": null,
   "id": "53e1fa8d-c53c-4c78-92c8-46669da174ca",
   "metadata": {},
   "outputs": [],
   "source": [
    "from transformers import BertTokenizerFast\n",
    "\n",
    "\n",
    "tokenizer = BertTokenizerFast.from_pretrained(\"bert-base-uncased\")\n",
    "\n",
    "sentence = \"THIS SENTENCÉ is written in UPPERCASE\"\n",
    "normalize = tokenizer.backend_tokenizer.normalizer.normalize_str(sentence)\n",
    "print(\"정규화 :\", normalize)\n",
    "\n",
    "sentence = \"이 문장은 삼중   공백을 포함하고 있습니다.\"\n",
    "pre_tokenize = tokenizer.backend_tokenizer.pre_tokenizer.pre_tokenize_str(sentence)\n",
    "print(\"사전 토큰화 :\", pre_tokenize)"
   ]
  }
 ],
 "metadata": {
  "kernelspec": {
   "display_name": "Python 3 (ipykernel)",
   "language": "python",
   "name": "python3"
  },
  "language_info": {
   "codemirror_mode": {
    "name": "ipython",
    "version": 3
   },
   "file_extension": ".py",
   "mimetype": "text/x-python",
   "name": "python",
   "nbconvert_exporter": "python",
   "pygments_lexer": "ipython3",
   "version": "3.9.13"
  }
 },
 "nbformat": 4,
 "nbformat_minor": 5
}
