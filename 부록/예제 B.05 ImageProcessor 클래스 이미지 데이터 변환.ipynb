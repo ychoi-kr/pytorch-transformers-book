{
 "cells": [
  {
   "cell_type": "code",
   "execution_count": null,
   "id": "9535f47e-2006-482e-b349-9569fae8928a",
   "metadata": {},
   "outputs": [],
   "source": [
    "from torchvision import datasets\n",
    "from transformers import CLIPImageProcessor\n",
    "\n",
    "\n",
    "dataset = datasets.FashionMNIST(root=\"../datasets\", download=True, train=False)\n",
    "image_processor = CLIPImageProcessor(\"openai/clip-vit-base-patch32\")\n",
    "\n",
    "image, label = dataset[0]\n",
    "output = image_processor(image)\n",
    "print(output)"
   ]
  }
 ],
 "metadata": {
  "kernelspec": {
   "display_name": "Python 3 (ipykernel)",
   "language": "python",
   "name": "python3"
  },
  "language_info": {
   "codemirror_mode": {
    "name": "ipython",
    "version": 3
   },
   "file_extension": ".py",
   "mimetype": "text/x-python",
   "name": "python",
   "nbconvert_exporter": "python",
   "pygments_lexer": "ipython3",
   "version": "3.9.13"
  }
 },
 "nbformat": 4,
 "nbformat_minor": 5
}
