{
 "cells": [
  {
   "cell_type": "code",
   "execution_count": null,
   "id": "e102c369-4de8-4cdf-84b4-a8d64cc54364",
   "metadata": {},
   "outputs": [],
   "source": [
    "import torch\n",
    "\n",
    "\n",
    "window_size = 2\n",
    "coords_h = torch.arange(window_size)\n",
    "coords_w = torch.arange(window_size)\n",
    "coords = torch.stack(torch.meshgrid([coords_h, coords_w], indexing=\"ij\"))\n",
    "coords_flatten = torch.flatten(coords, 1)\n",
    "relative_coords = coords_flatten[:, :, None] - coords_flatten[:, None, :]\n",
    "\n",
    "print(relative_coords)\n",
    "print(relative_coords.shape)"
   ]
  },
  {
   "cell_type": "code",
   "execution_count": null,
   "id": "9d942af7-05c0-42e7-bfc8-a44957aced3d",
   "metadata": {},
   "outputs": [],
   "source": [
    "x_coords = relative_coords[0, :, :]\n",
    "y_coords = relative_coords[1, :, :]\n",
    "\n",
    "x_coords += window_size - 1  # X축에 대한 ③번 연산 과정\n",
    "y_coords += window_size - 1  # Y축에 대한 ③번 연산 과정\n",
    "x_coords *= 2 * window_size - 1  # ④번 연산 과정\n",
    "print(f\"X축에 대한 행렬:\\n{x_coords}\\n\")\n",
    "print(f\"Y축에 대한 행렬:\\n{y_coords}\\n\")\n",
    "\n",
    "relative_position_index = x_coords + y_coords  # ⑤번 연산 과정\n",
    "print(f\"X, Y축에 대한 위치 행렬:\\n{relative_position_index}\")"
   ]
  },
  {
   "cell_type": "code",
   "execution_count": null,
   "id": "46df5241-4ba4-4e74-b512-be1c903881ac",
   "metadata": {},
   "outputs": [],
   "source": [
    "num_heads = 1\n",
    "relative_position_bias_table = torch.Tensor(\n",
    "    torch.zeros((2 * window_size - 1) * (2 * window_size - 1), num_heads)\n",
    ")\n",
    "\n",
    "relative_position_bias = relative_position_bias_table[relative_position_index.view(-1)]\n",
    "relative_position_bias = relative_position_bias.view(\n",
    "    window_size * window_size, window_size * window_size, -1\n",
    ")\n",
    "print(relative_position_bias.shape)"
   ]
  }
 ],
 "metadata": {
  "kernelspec": {
   "display_name": "Python 3 (ipykernel)",
   "language": "python",
   "name": "python3"
  },
  "language_info": {
   "codemirror_mode": {
    "name": "ipython",
    "version": 3
   },
   "file_extension": ".py",
   "mimetype": "text/x-python",
   "name": "python",
   "nbconvert_exporter": "python",
   "pygments_lexer": "ipython3",
   "version": "3.9.13"
  }
 },
 "nbformat": 4,
 "nbformat_minor": 5
}
