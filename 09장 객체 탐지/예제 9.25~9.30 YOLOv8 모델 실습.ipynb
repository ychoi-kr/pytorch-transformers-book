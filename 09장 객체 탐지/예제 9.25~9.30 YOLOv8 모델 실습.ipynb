{
 "cells": [
  {
   "cell_type": "code",
   "execution_count": null,
   "id": "5021fc30-c1cb-41a9-91e7-8a98fa5b2c12",
   "metadata": {},
   "outputs": [],
   "source": [
    "from ultralytics import YOLO\n",
    "\n",
    "\n",
    "model = YOLO(\"../models/yolov8m-pose.pt\")"
   ]
  },
  {
   "cell_type": "code",
   "execution_count": 2,
   "id": "d591fd96-b596-4b2f-adf8-2fe6cd3af3cc",
   "metadata": {},
   "outputs": [],
   "source": [
    "import cv2\n",
    "\n",
    "\n",
    "capture = cv2.VideoCapture(\"../datasets/woman.mp4\")\n",
    "while cv2.waitKey(10) < 0:\n",
    "    if capture.get(cv2.CAP_PROP_POS_FRAMES) == capture.get(cv2.CAP_PROP_FRAME_COUNT):\n",
    "        capture.set(cv2.CAP_PROP_POS_FRAMES, 0)\n",
    "        \n",
    "    ret, frame = capture.read()\n",
    "    cv2.imshow(\"VideoFrame\", frame)\n",
    "\n",
    "capture.release()\n",
    "cv2.destroyAllWindows()"
   ]
  },
  {
   "cell_type": "code",
   "execution_count": 3,
   "id": "60e3e481-ca6c-4404-8b6e-0e4aa9b5a68d",
   "metadata": {},
   "outputs": [],
   "source": [
    "import torch\n",
    "\n",
    "\n",
    "def predict(frame, iou=0.7, conf=0.25):\n",
    "    results = model(\n",
    "        source=frame,\n",
    "        device=\"0\" if torch.cuda.is_available() else \"cpu\",\n",
    "        iou=0.7,\n",
    "        conf=0.25,\n",
    "        verbose=False,\n",
    "    )\n",
    "    result = results[0]\n",
    "    return result"
   ]
  },
  {
   "cell_type": "code",
   "execution_count": 4,
   "id": "e1465d14-3353-4125-a72c-a09f006d449d",
   "metadata": {},
   "outputs": [],
   "source": [
    "def draw_boxes(result, frame):\n",
    "    for boxes in result.boxes:\n",
    "        x1, y1, x2, y2, score, classes = boxes.data.squeeze().cpu().numpy()\n",
    "        cv2.rectangle(frame, (int(x1), int(y1)), (int(x2), int(y2)), (0, 0, 255), 1)\n",
    "    return frame"
   ]
  },
  {
   "cell_type": "code",
   "execution_count": 5,
   "id": "dfe374db-163a-4e21-ae9f-c764777e4797",
   "metadata": {},
   "outputs": [],
   "source": [
    "import cv2\n",
    "\n",
    "\n",
    "capture = cv2.VideoCapture(\"../datasets/woman.mp4\")\n",
    "while cv2.waitKey(10) < 0:\n",
    "    if capture.get(cv2.CAP_PROP_POS_FRAMES) == capture.get(cv2.CAP_PROP_FRAME_COUNT):\n",
    "        capture.set(cv2.CAP_PROP_POS_FRAMES, 0)\n",
    "        \n",
    "    ret, frame = capture.read()\n",
    "    result = predict(frame)\n",
    "    frame = draw_boxes(result, frame)\n",
    "    cv2.imshow(\"VideoFrame\", frame)\n",
    "\n",
    "capture.release()\n",
    "cv2.destroyAllWindows()"
   ]
  },
  {
   "cell_type": "code",
   "execution_count": 65,
   "id": "1198c024-d8a4-488a-af99-0a45eb213c7f",
   "metadata": {},
   "outputs": [],
   "source": [
    "from ultralytics.yolo.utils.plotting import Annotator\n",
    "\n",
    "\n",
    "def draw_keypoints(result, frame):\n",
    "    annotator = Annotator(frame, line_width=1)\n",
    "    for kps in result.keypoints:\n",
    "        kps = kps.data.squeeze()\n",
    "        annotator.kpts(kps)\n",
    "        \n",
    "        nkps = kps.cpu().numpy()\n",
    "        # nkps[:,2] = 1\n",
    "        # annotator.kpts(nkps)\n",
    "        for idx, (x, y, score) in enumerate(nkps):\n",
    "            if score > 0.5:\n",
    "                cv2.circle(frame, (int(x), int(y)), 3, (0, 0, 255), cv2.FILLED)\n",
    "                cv2.putText(frame, str(idx), (int(x), int(y)), cv2.FONT_HERSHEY_COMPLEX, 1, (0, 0, 255), 1)\n",
    "        \n",
    "    return frame"
   ]
  },
  {
   "cell_type": "code",
   "execution_count": 66,
   "id": "26fb7a37-db96-4423-9d4f-0e92e40effcd",
   "metadata": {},
   "outputs": [],
   "source": [
    "import cv2\n",
    "\n",
    "\n",
    "capture = cv2.VideoCapture(\"../datasets/woman.mp4\")\n",
    "while cv2.waitKey(10) < 0:\n",
    "    if capture.get(cv2.CAP_PROP_POS_FRAMES) == capture.get(cv2.CAP_PROP_FRAME_COUNT):\n",
    "        capture.set(cv2.CAP_PROP_POS_FRAMES, 0)\n",
    "        \n",
    "    ret, frame = capture.read()\n",
    "    result = predict(frame)\n",
    "    frame = draw_boxes(result, frame)\n",
    "    frame = draw_keypoints(result, frame)\n",
    "    cv2.imshow(\"VideoFrame\", frame)\n",
    "\n",
    "capture.release()\n",
    "cv2.destroyAllWindows()"
   ]
  }
 ],
 "metadata": {
  "kernelspec": {
   "display_name": "Python 3 (ipykernel)",
   "language": "python",
   "name": "python3"
  },
  "language_info": {
   "codemirror_mode": {
    "name": "ipython",
    "version": 3
   },
   "file_extension": ".py",
   "mimetype": "text/x-python",
   "name": "python",
   "nbconvert_exporter": "python",
   "pygments_lexer": "ipython3",
   "version": "3.9.13"
  }
 },
 "nbformat": 4,
 "nbformat_minor": 5
}
